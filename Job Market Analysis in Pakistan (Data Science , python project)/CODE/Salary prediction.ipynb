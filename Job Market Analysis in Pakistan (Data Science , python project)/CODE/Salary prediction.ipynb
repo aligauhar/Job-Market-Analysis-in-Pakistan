{
 "cells": [
  {
   "cell_type": "code",
   "execution_count": 3,
   "id": "84078ccc-b884-4d27-92b2-f710fbebd4d5",
   "metadata": {
    "tags": []
   },
   "outputs": [
    {
     "name": "stdin",
     "output_type": "stream",
     "text": [
      "Enter Job Name:  PHP developer\n",
      "Enter Job Type:  Full time\n",
      "Enter Experience:  2\n",
      "Enter Department:  IT\n",
      "Enter City:  Karachi\n"
     ]
    },
    {
     "name": "stdout",
     "output_type": "stream",
     "text": [
      "Predicted Salary accoding to market condition is : 106061 PKR\n"
     ]
    }
   ],
   "source": [
    "import pandas as pd\n",
    "import numpy as np\n",
    "from sklearn.linear_model import LinearRegression\n",
    "from sklearn.preprocessing import LabelEncoder\n",
    "\n",
    "data = pd.read_csv('starPakistan Available Job Dec 19 - Mar-21.csv')\n",
    "features = ['Job Name', 'Job Type', 'Experience Required', 'Department', 'City']\n",
    "target = 'Salary'\n",
    "\n",
    "# Converting the data numerically\n",
    "le = LabelEncoder()\n",
    "data_encoded = data[features].apply(le.fit_transform)\n",
    "model = LinearRegression()\n",
    "model.fit(data_encoded, data[target])\n",
    "\n",
    "# Taking input\n",
    "job_name = input(\"Enter Job Name: \")\n",
    "job_type = input(\"Enter Job Type: \")\n",
    "experience = input(\"Enter Experience: \")\n",
    "department = input(\"Enter Department: \")\n",
    "city = input(\"Enter City: \")\n",
    "\n",
    "# Encode the user input\n",
    "user_input = pd.DataFrame([[job_name, job_type, experience, department, city]], columns=features)\n",
    "\n",
    "# Label encoder handling of unseen data to raise an error if it doesn't know how to encounter the error\n",
    "for feature in features:\n",
    "    le = LabelEncoder()\n",
    "    le.fit(data[feature])\n",
    "    user_input[feature] = user_input[feature].map(lambda s: '<unknown>' if s not in le.classes_ else s)\n",
    "    le.classes_ = np.append(le.classes_, '<unknown>')\n",
    "\n",
    "user_input_encoded = user_input.apply(le.transform)\n",
    "prediction = model.predict(user_input_encoded)\n",
    "print(\"Predicted Salary accoding to market condition is :\", int(prediction),\"PKR\")\n"
   ]
  },
  {
   "cell_type": "code",
   "execution_count": null,
   "id": "4b67f1ff-a49d-46c3-8b16-23d107088dc4",
   "metadata": {},
   "outputs": [],
   "source": []
  }
 ],
 "metadata": {
  "kernelspec": {
   "display_name": "Python 3 (ipykernel)",
   "language": "python",
   "name": "python3"
  },
  "language_info": {
   "codemirror_mode": {
    "name": "ipython",
    "version": 3
   },
   "file_extension": ".py",
   "mimetype": "text/x-python",
   "name": "python",
   "nbconvert_exporter": "python",
   "pygments_lexer": "ipython3",
   "version": "3.10.6"
  }
 },
 "nbformat": 4,
 "nbformat_minor": 5
}
